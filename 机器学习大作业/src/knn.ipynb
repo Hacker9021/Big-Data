{
 "cells": [
  {
   "cell_type": "code",
   "execution_count": 2,
   "metadata": {},
   "outputs": [],
   "source": [
    "import pandas as pd\n",
    "import numpy as np\n",
    "from sklearn.metrics import accuracy_score"
   ]
  },
  {
   "cell_type": "code",
   "execution_count": 3,
   "metadata": {},
   "outputs": [
    {
     "name": "stdout",
     "output_type": "stream",
     "text": [
      "X_train shape: (42000, 784)\n",
      "y_train shape: (42000,)\n",
      "X_test shape: (28000, 784)\n"
     ]
    }
   ],
   "source": [
    "# 读取训练集和测试集CSV文件\n",
    "train_data = pd.read_csv(\"data\\\\train.csv\")\n",
    "test_data = pd.read_csv(\"data\\\\test.csv\")\n",
    "m, n = train_data.shape\n",
    "\n",
    "# 选择训练集特征和标签列\n",
    "X_train = train_data.iloc[:, 1:].values\n",
    "y_train = train_data.iloc[:, 0].values\n",
    "\n",
    "# 选择测试集特征列\n",
    "X_test = test_data.iloc[:, 1:].values\n",
    "X_train, X_test = X_train / 255, X_test / 255\n",
    "y_dev = test_data.iloc[:, 0].values #测试集对应的真实标签\n",
    "\n",
    "print(\"X_train shape:\", X_train.shape)\n",
    "print(\"y_train shape:\", y_train.shape)\n",
    "print(\"X_test shape:\", X_test.shape)"
   ]
  },
  {
   "cell_type": "code",
   "execution_count": 5,
   "metadata": {},
   "outputs": [],
   "source": [
    "class KNNClassifier:\n",
    "    def __init__(self, k=3):\n",
    "        self.k = k\n",
    "\n",
    "    def fit(self, X_train, y_train):\n",
    "        self.X_train = X_train\n",
    "        self.y_train = y_train\n",
    "\n",
    "    def euclidean_distance(self, x1, x2):\n",
    "        return np.sqrt(np.sum((x1 - x2) ** 2))\n",
    "\n",
    "    def predict(self, X_test):\n",
    "        predictions = []\n",
    "        for sample in X_test:\n",
    "            distances = [self.euclidean_distance(sample, x_train) for x_train in self.X_train]\n",
    "            nearest_indices = np.argsort(distances)[:self.k]\n",
    "            nearest_labels = [self.y_train[i] for i in nearest_indices]\n",
    "            prediction = max(set(nearest_labels), key=nearest_labels.count)\n",
    "            predictions.append(prediction)\n",
    "        return predictions"
   ]
  },
  {
   "cell_type": "code",
   "execution_count": 6,
   "metadata": {},
   "outputs": [
    {
     "name": "stdout",
     "output_type": "stream",
     "text": [
      "模型准确率: 0.9704642857142857\n"
     ]
    }
   ],
   "source": [
    "knn_classifier = KNNClassifier(k=3)\n",
    "knn_classifier.fit(X_train, y_train)\n",
    "\n",
    "# 在测试集上进行预测\n",
    "y_pred = knn_classifier.predict(X_test)\n",
    "# 计算模型准确率\n",
    "accuracy = accuracy_score(y_dev, y_pred)\n",
    "print(\"模型准确率:\", accuracy)"
   ]
  },
  {
   "cell_type": "code",
   "execution_count": 7,
   "metadata": {},
   "outputs": [],
   "source": [
    "\n",
    "sample_submission = pd.read_csv(\"data\\\\sample_submission.csv\")\n",
    "sample_submission['Label'] = y_pred\n",
    "sample_submission.to_csv(\"knn_submission.csv\", index=False)\n"
   ]
  }
 ],
 "metadata": {
  "kernelspec": {
   "display_name": "d2l",
   "language": "python",
   "name": "python3"
  },
  "language_info": {
   "codemirror_mode": {
    "name": "ipython",
    "version": 3
   },
   "file_extension": ".py",
   "mimetype": "text/x-python",
   "name": "python",
   "nbconvert_exporter": "python",
   "pygments_lexer": "ipython3",
   "version": "3.9.18"
  }
 },
 "nbformat": 4,
 "nbformat_minor": 2
}
